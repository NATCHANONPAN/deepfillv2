{
 "cells": [
  {
   "cell_type": "code",
   "execution_count": 1,
   "metadata": {},
   "outputs": [],
   "source": [
    "import os\n",
    "\n",
    "# set the directory path\n",
    "directory = \"./rawdata/mask/\"\n",
    "\n",
    "# loop through all files in the directory\n",
    "for filename in os.listdir(directory):\n",
    "    # check if the file is a jpg file\n",
    "    if filename.endswith(\".jpg\"):\n",
    "        # split the filename into the name and extension\n",
    "        name, ext = os.path.splitext(filename)\n",
    "        # rename the file with \"_mask\" added to the name\n",
    "        os.rename(os.path.join(directory, filename), os.path.join(directory, name + \"_mask\" + ext))\n"
   ]
  },
  {
   "cell_type": "code",
   "execution_count": 2,
   "metadata": {},
   "outputs": [],
   "source": [
    "import os\n",
    "\n",
    "# set the directory path\n",
    "directory = \"./rawdata/whitedoted\"\n",
    "\n",
    "# loop through all files in the directory\n",
    "for filename in os.listdir(directory):\n",
    "    # check if the file is a jpg file\n",
    "    if filename.endswith(\".jpg\"):\n",
    "        # split the filename into the name and extension\n",
    "        name, ext = os.path.splitext(filename)\n",
    "        # rename the file with \"_mask\" added to the name\n",
    "        os.rename(os.path.join(directory, filename), os.path.join(directory, name + \"_masked\" + ext))"
   ]
  },
  {
   "cell_type": "code",
   "execution_count": 4,
   "metadata": {},
   "outputs": [],
   "source": [
    "import os\n",
    "\n",
    "# set the directory path\n",
    "directory = \"./rawdata/original\"\n",
    "\n",
    "# loop through all files in the directory\n",
    "for filename in os.listdir(directory):\n",
    "    # check if the file is a jpg file\n",
    "    if filename.endswith(\".jpg\"):\n",
    "        # split the filename into the name and extension\n",
    "        name, ext = os.path.splitext(filename)\n",
    "        # rename the file with \"_mask\" added to the name\n",
    "        os.rename(os.path.join(directory, filename), os.path.join(directory, name + \"_out\" + ext))"
   ]
  },
  {
   "cell_type": "code",
   "execution_count": null,
   "metadata": {},
   "outputs": [],
   "source": []
  }
 ],
 "metadata": {
  "kernelspec": {
   "display_name": "chulacv2022",
   "language": "python",
   "name": "chulacv2022"
  },
  "language_info": {
   "codemirror_mode": {
    "name": "ipython",
    "version": 3
   },
   "file_extension": ".py",
   "mimetype": "text/x-python",
   "name": "python",
   "nbconvert_exporter": "python",
   "pygments_lexer": "ipython3",
   "version": "3.11.0"
  },
  "orig_nbformat": 4
 },
 "nbformat": 4,
 "nbformat_minor": 2
}
